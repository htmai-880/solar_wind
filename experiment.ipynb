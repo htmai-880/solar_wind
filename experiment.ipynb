{
 "cells": [
  {
   "cell_type": "code",
   "execution_count": 1,
   "metadata": {},
   "outputs": [],
   "source": [
    "%matplotlib inline\n",
    "\n",
    "import pandas as pd"
   ]
  },
  {
   "cell_type": "code",
   "execution_count": 2,
   "metadata": {},
   "outputs": [],
   "source": [
    "import problem"
   ]
  },
  {
   "cell_type": "code",
   "execution_count": 3,
   "metadata": {},
   "outputs": [],
   "source": [
    "data_train, y_train = problem.get_train_data()"
   ]
  },
  {
   "cell_type": "code",
   "execution_count": 4,
   "metadata": {},
   "outputs": [
    {
     "data": {
      "text/html": [
       "<div>\n",
       "<style scoped>\n",
       "    .dataframe tbody tr th:only-of-type {\n",
       "        vertical-align: middle;\n",
       "    }\n",
       "\n",
       "    .dataframe tbody tr th {\n",
       "        vertical-align: top;\n",
       "    }\n",
       "\n",
       "    .dataframe thead th {\n",
       "        text-align: right;\n",
       "    }\n",
       "</style>\n",
       "<table border=\"1\" class=\"dataframe\">\n",
       "  <thead>\n",
       "    <tr style=\"text-align: right;\">\n",
       "      <th></th>\n",
       "      <th>B</th>\n",
       "      <th>Bx</th>\n",
       "      <th>Bx_rms</th>\n",
       "      <th>By</th>\n",
       "      <th>By_rms</th>\n",
       "      <th>Bz</th>\n",
       "      <th>Bz_rms</th>\n",
       "      <th>Na_nl</th>\n",
       "      <th>Np</th>\n",
       "      <th>Np_nl</th>\n",
       "      <th>...</th>\n",
       "      <th>Range F 8</th>\n",
       "      <th>Range F 9</th>\n",
       "      <th>V</th>\n",
       "      <th>Vth</th>\n",
       "      <th>Vx</th>\n",
       "      <th>Vy</th>\n",
       "      <th>Vz</th>\n",
       "      <th>Beta</th>\n",
       "      <th>Pdyn</th>\n",
       "      <th>RmsBob</th>\n",
       "    </tr>\n",
       "  </thead>\n",
       "  <tbody>\n",
       "    <tr>\n",
       "      <th>1997-10-01 00:00:00</th>\n",
       "      <td>6.584763</td>\n",
       "      <td>3.753262</td>\n",
       "      <td>2.303108</td>\n",
       "      <td>0.966140</td>\n",
       "      <td>2.602693</td>\n",
       "      <td>-5.179685</td>\n",
       "      <td>2.668414</td>\n",
       "      <td>2.290824</td>\n",
       "      <td>23.045732</td>\n",
       "      <td>24.352797</td>\n",
       "      <td>...</td>\n",
       "      <td>2.757919e+09</td>\n",
       "      <td>2.472087e+09</td>\n",
       "      <td>378.313934</td>\n",
       "      <td>80.613098</td>\n",
       "      <td>-351.598389</td>\n",
       "      <td>-138.521454</td>\n",
       "      <td>6.956387</td>\n",
       "      <td>7.641340</td>\n",
       "      <td>5.487331e-15</td>\n",
       "      <td>0.668473</td>\n",
       "    </tr>\n",
       "    <tr>\n",
       "      <th>1997-10-01 00:10:00</th>\n",
       "      <td>6.036456</td>\n",
       "      <td>0.693559</td>\n",
       "      <td>1.810752</td>\n",
       "      <td>-0.904843</td>\n",
       "      <td>2.165570</td>\n",
       "      <td>-1.944006</td>\n",
       "      <td>2.372931</td>\n",
       "      <td>2.119593</td>\n",
       "      <td>23.000492</td>\n",
       "      <td>20.993362</td>\n",
       "      <td>...</td>\n",
       "      <td>3.365612e+09</td>\n",
       "      <td>3.087122e+09</td>\n",
       "      <td>350.421021</td>\n",
       "      <td>69.919327</td>\n",
       "      <td>-331.012146</td>\n",
       "      <td>-110.970787</td>\n",
       "      <td>-21.269474</td>\n",
       "      <td>9.149856</td>\n",
       "      <td>4.783776e-15</td>\n",
       "      <td>0.753848</td>\n",
       "    </tr>\n",
       "    <tr>\n",
       "      <th>1997-10-01 00:20:00</th>\n",
       "      <td>5.653682</td>\n",
       "      <td>-4.684786</td>\n",
       "      <td>0.893058</td>\n",
       "      <td>-2.668830</td>\n",
       "      <td>0.768677</td>\n",
       "      <td>1.479302</td>\n",
       "      <td>1.069266</td>\n",
       "      <td>2.876815</td>\n",
       "      <td>20.676191</td>\n",
       "      <td>17.496399</td>\n",
       "      <td>...</td>\n",
       "      <td>1.675611e+09</td>\n",
       "      <td>1.558640e+09</td>\n",
       "      <td>328.324493</td>\n",
       "      <td>92.194435</td>\n",
       "      <td>-306.114899</td>\n",
       "      <td>-117.035202</td>\n",
       "      <td>-13.018987</td>\n",
       "      <td>11.924199</td>\n",
       "      <td>3.719768e-15</td>\n",
       "      <td>0.282667</td>\n",
       "    </tr>\n",
       "    <tr>\n",
       "      <th>1997-10-01 00:30:00</th>\n",
       "      <td>5.461768</td>\n",
       "      <td>-4.672382</td>\n",
       "      <td>1.081638</td>\n",
       "      <td>-2.425630</td>\n",
       "      <td>0.765681</td>\n",
       "      <td>1.203713</td>\n",
       "      <td>0.934445</td>\n",
       "      <td>2.851195</td>\n",
       "      <td>20.730188</td>\n",
       "      <td>16.747108</td>\n",
       "      <td>...</td>\n",
       "      <td>1.589037e+09</td>\n",
       "      <td>1.439569e+09</td>\n",
       "      <td>319.436859</td>\n",
       "      <td>94.230705</td>\n",
       "      <td>-298.460938</td>\n",
       "      <td>-110.403969</td>\n",
       "      <td>-20.350492</td>\n",
       "      <td>16.032987</td>\n",
       "      <td>3.525211e-15</td>\n",
       "      <td>0.304713</td>\n",
       "    </tr>\n",
       "    <tr>\n",
       "      <th>1997-10-01 00:40:00</th>\n",
       "      <td>6.177846</td>\n",
       "      <td>-5.230110</td>\n",
       "      <td>1.046126</td>\n",
       "      <td>-2.872561</td>\n",
       "      <td>0.635256</td>\n",
       "      <td>1.505010</td>\n",
       "      <td>0.850657</td>\n",
       "      <td>3.317076</td>\n",
       "      <td>20.675701</td>\n",
       "      <td>17.524536</td>\n",
       "      <td>...</td>\n",
       "      <td>1.812308e+09</td>\n",
       "      <td>1.529260e+09</td>\n",
       "      <td>327.545929</td>\n",
       "      <td>89.292595</td>\n",
       "      <td>-307.303070</td>\n",
       "      <td>-111.865845</td>\n",
       "      <td>-12.313167</td>\n",
       "      <td>10.253789</td>\n",
       "      <td>3.694283e-15</td>\n",
       "      <td>0.244203</td>\n",
       "    </tr>\n",
       "  </tbody>\n",
       "</table>\n",
       "<p>5 rows × 33 columns</p>\n",
       "</div>"
      ],
      "text/plain": [
       "                            B        Bx    Bx_rms        By    By_rms  \\\n",
       "1997-10-01 00:00:00  6.584763  3.753262  2.303108  0.966140  2.602693   \n",
       "1997-10-01 00:10:00  6.036456  0.693559  1.810752 -0.904843  2.165570   \n",
       "1997-10-01 00:20:00  5.653682 -4.684786  0.893058 -2.668830  0.768677   \n",
       "1997-10-01 00:30:00  5.461768 -4.672382  1.081638 -2.425630  0.765681   \n",
       "1997-10-01 00:40:00  6.177846 -5.230110  1.046126 -2.872561  0.635256   \n",
       "\n",
       "                           Bz    Bz_rms     Na_nl         Np      Np_nl  ...  \\\n",
       "1997-10-01 00:00:00 -5.179685  2.668414  2.290824  23.045732  24.352797  ...   \n",
       "1997-10-01 00:10:00 -1.944006  2.372931  2.119593  23.000492  20.993362  ...   \n",
       "1997-10-01 00:20:00  1.479302  1.069266  2.876815  20.676191  17.496399  ...   \n",
       "1997-10-01 00:30:00  1.203713  0.934445  2.851195  20.730188  16.747108  ...   \n",
       "1997-10-01 00:40:00  1.505010  0.850657  3.317076  20.675701  17.524536  ...   \n",
       "\n",
       "                        Range F 8     Range F 9           V        Vth  \\\n",
       "1997-10-01 00:00:00  2.757919e+09  2.472087e+09  378.313934  80.613098   \n",
       "1997-10-01 00:10:00  3.365612e+09  3.087122e+09  350.421021  69.919327   \n",
       "1997-10-01 00:20:00  1.675611e+09  1.558640e+09  328.324493  92.194435   \n",
       "1997-10-01 00:30:00  1.589037e+09  1.439569e+09  319.436859  94.230705   \n",
       "1997-10-01 00:40:00  1.812308e+09  1.529260e+09  327.545929  89.292595   \n",
       "\n",
       "                             Vx          Vy         Vz       Beta  \\\n",
       "1997-10-01 00:00:00 -351.598389 -138.521454   6.956387   7.641340   \n",
       "1997-10-01 00:10:00 -331.012146 -110.970787 -21.269474   9.149856   \n",
       "1997-10-01 00:20:00 -306.114899 -117.035202 -13.018987  11.924199   \n",
       "1997-10-01 00:30:00 -298.460938 -110.403969 -20.350492  16.032987   \n",
       "1997-10-01 00:40:00 -307.303070 -111.865845 -12.313167  10.253789   \n",
       "\n",
       "                             Pdyn    RmsBob  \n",
       "1997-10-01 00:00:00  5.487331e-15  0.668473  \n",
       "1997-10-01 00:10:00  4.783776e-15  0.753848  \n",
       "1997-10-01 00:20:00  3.719768e-15  0.282667  \n",
       "1997-10-01 00:30:00  3.525211e-15  0.304713  \n",
       "1997-10-01 00:40:00  3.694283e-15  0.244203  \n",
       "\n",
       "[5 rows x 33 columns]"
      ]
     },
     "execution_count": 4,
     "metadata": {},
     "output_type": "execute_result"
    }
   ],
   "source": [
    "data_train.head()"
   ]
  },
  {
   "cell_type": "code",
   "execution_count": 5,
   "metadata": {},
   "outputs": [
    {
     "data": {
      "text/plain": [
       "1997-10-01 00:00:00    0\n",
       "1997-10-01 00:10:00    0\n",
       "1997-10-01 00:20:00    0\n",
       "1997-10-01 00:30:00    0\n",
       "1997-10-01 00:40:00    0\n",
       "Name: label, dtype: int32"
      ]
     },
     "execution_count": 5,
     "metadata": {},
     "output_type": "execute_result"
    }
   ],
   "source": [
    "y_train.head()"
   ]
  },
  {
   "cell_type": "code",
   "execution_count": 6,
   "metadata": {},
   "outputs": [],
   "source": [
    "data_test, y_test = problem.get_test_data()"
   ]
  },
  {
   "cell_type": "code",
   "execution_count": 7,
   "metadata": {},
   "outputs": [
    {
     "data": {
      "text/html": [
       "<div>\n",
       "<style scoped>\n",
       "    .dataframe tbody tr th:only-of-type {\n",
       "        vertical-align: middle;\n",
       "    }\n",
       "\n",
       "    .dataframe tbody tr th {\n",
       "        vertical-align: top;\n",
       "    }\n",
       "\n",
       "    .dataframe thead th {\n",
       "        text-align: right;\n",
       "    }\n",
       "</style>\n",
       "<table border=\"1\" class=\"dataframe\">\n",
       "  <thead>\n",
       "    <tr style=\"text-align: right;\">\n",
       "      <th></th>\n",
       "      <th>B</th>\n",
       "      <th>Bx</th>\n",
       "      <th>Bx_rms</th>\n",
       "      <th>By</th>\n",
       "      <th>By_rms</th>\n",
       "      <th>Bz</th>\n",
       "      <th>Bz_rms</th>\n",
       "      <th>Na_nl</th>\n",
       "      <th>Np</th>\n",
       "      <th>Np_nl</th>\n",
       "      <th>...</th>\n",
       "      <th>Range F 8</th>\n",
       "      <th>Range F 9</th>\n",
       "      <th>V</th>\n",
       "      <th>Vth</th>\n",
       "      <th>Vx</th>\n",
       "      <th>Vy</th>\n",
       "      <th>Vz</th>\n",
       "      <th>Beta</th>\n",
       "      <th>Pdyn</th>\n",
       "      <th>RmsBob</th>\n",
       "    </tr>\n",
       "  </thead>\n",
       "  <tbody>\n",
       "    <tr>\n",
       "      <th>2008-01-01 00:00:00</th>\n",
       "      <td>4.191322</td>\n",
       "      <td>-3.683284</td>\n",
       "      <td>0.174691</td>\n",
       "      <td>1.798880</td>\n",
       "      <td>0.273878</td>\n",
       "      <td>-0.362722</td>\n",
       "      <td>0.428125</td>\n",
       "      <td>0.132609</td>\n",
       "      <td>6.028121</td>\n",
       "      <td>4.624486</td>\n",
       "      <td>...</td>\n",
       "      <td>9.860334e+08</td>\n",
       "      <td>1.558658e+09</td>\n",
       "      <td>346.071014</td>\n",
       "      <td>36.012177</td>\n",
       "      <td>-345.823730</td>\n",
       "      <td>2.977509</td>\n",
       "      <td>-6.587379</td>\n",
       "      <td>0.934875</td>\n",
       "      <td>1.208364e-15</td>\n",
       "      <td>0.129070</td>\n",
       "    </tr>\n",
       "    <tr>\n",
       "      <th>2008-01-01 00:10:00</th>\n",
       "      <td>4.257490</td>\n",
       "      <td>-2.976951</td>\n",
       "      <td>0.144501</td>\n",
       "      <td>2.953034</td>\n",
       "      <td>0.125648</td>\n",
       "      <td>0.410667</td>\n",
       "      <td>0.274116</td>\n",
       "      <td>0.123604</td>\n",
       "      <td>6.149254</td>\n",
       "      <td>5.863568</td>\n",
       "      <td>...</td>\n",
       "      <td>1.126279e+09</td>\n",
       "      <td>1.762056e+09</td>\n",
       "      <td>348.415741</td>\n",
       "      <td>34.976662</td>\n",
       "      <td>-348.193298</td>\n",
       "      <td>-5.476861</td>\n",
       "      <td>-10.663119</td>\n",
       "      <td>0.872927</td>\n",
       "      <td>1.248913e-15</td>\n",
       "      <td>0.079137</td>\n",
       "    </tr>\n",
       "    <tr>\n",
       "      <th>2008-01-01 00:20:00</th>\n",
       "      <td>4.190869</td>\n",
       "      <td>-3.058623</td>\n",
       "      <td>0.286867</td>\n",
       "      <td>2.442341</td>\n",
       "      <td>0.311452</td>\n",
       "      <td>-0.292565</td>\n",
       "      <td>0.326747</td>\n",
       "      <td>0.101965</td>\n",
       "      <td>6.070359</td>\n",
       "      <td>5.217190</td>\n",
       "      <td>...</td>\n",
       "      <td>1.144053e+09</td>\n",
       "      <td>1.718165e+09</td>\n",
       "      <td>348.164673</td>\n",
       "      <td>34.677750</td>\n",
       "      <td>-347.992798</td>\n",
       "      <td>-1.428905</td>\n",
       "      <td>-8.036335</td>\n",
       "      <td>0.879172</td>\n",
       "      <td>1.231391e-15</td>\n",
       "      <td>0.132966</td>\n",
       "    </tr>\n",
       "    <tr>\n",
       "      <th>2008-01-01 00:30:00</th>\n",
       "      <td>4.261395</td>\n",
       "      <td>-1.951039</td>\n",
       "      <td>0.148014</td>\n",
       "      <td>3.703976</td>\n",
       "      <td>0.095857</td>\n",
       "      <td>-0.347672</td>\n",
       "      <td>0.228227</td>\n",
       "      <td>0.079186</td>\n",
       "      <td>6.000411</td>\n",
       "      <td>5.828165</td>\n",
       "      <td>...</td>\n",
       "      <td>1.098246e+09</td>\n",
       "      <td>1.878379e+09</td>\n",
       "      <td>356.162506</td>\n",
       "      <td>32.947617</td>\n",
       "      <td>-355.946167</td>\n",
       "      <td>-10.620467</td>\n",
       "      <td>-5.134477</td>\n",
       "      <td>0.764977</td>\n",
       "      <td>1.272731e-15</td>\n",
       "      <td>0.069234</td>\n",
       "    </tr>\n",
       "    <tr>\n",
       "      <th>2008-01-01 00:40:00</th>\n",
       "      <td>4.267907</td>\n",
       "      <td>-1.729106</td>\n",
       "      <td>0.101710</td>\n",
       "      <td>3.840123</td>\n",
       "      <td>0.068386</td>\n",
       "      <td>0.392823</td>\n",
       "      <td>0.159227</td>\n",
       "      <td>0.073780</td>\n",
       "      <td>5.841330</td>\n",
       "      <td>5.708538</td>\n",
       "      <td>...</td>\n",
       "      <td>1.202470e+09</td>\n",
       "      <td>1.859657e+09</td>\n",
       "      <td>357.871826</td>\n",
       "      <td>31.242083</td>\n",
       "      <td>-357.522736</td>\n",
       "      <td>-9.289846</td>\n",
       "      <td>-12.252926</td>\n",
       "      <td>0.657990</td>\n",
       "      <td>1.251328e-15</td>\n",
       "      <td>0.047655</td>\n",
       "    </tr>\n",
       "  </tbody>\n",
       "</table>\n",
       "<p>5 rows × 33 columns</p>\n",
       "</div>"
      ],
      "text/plain": [
       "                            B        Bx    Bx_rms        By    By_rms  \\\n",
       "2008-01-01 00:00:00  4.191322 -3.683284  0.174691  1.798880  0.273878   \n",
       "2008-01-01 00:10:00  4.257490 -2.976951  0.144501  2.953034  0.125648   \n",
       "2008-01-01 00:20:00  4.190869 -3.058623  0.286867  2.442341  0.311452   \n",
       "2008-01-01 00:30:00  4.261395 -1.951039  0.148014  3.703976  0.095857   \n",
       "2008-01-01 00:40:00  4.267907 -1.729106  0.101710  3.840123  0.068386   \n",
       "\n",
       "                           Bz    Bz_rms     Na_nl        Np     Np_nl  ...  \\\n",
       "2008-01-01 00:00:00 -0.362722  0.428125  0.132609  6.028121  4.624486  ...   \n",
       "2008-01-01 00:10:00  0.410667  0.274116  0.123604  6.149254  5.863568  ...   \n",
       "2008-01-01 00:20:00 -0.292565  0.326747  0.101965  6.070359  5.217190  ...   \n",
       "2008-01-01 00:30:00 -0.347672  0.228227  0.079186  6.000411  5.828165  ...   \n",
       "2008-01-01 00:40:00  0.392823  0.159227  0.073780  5.841330  5.708538  ...   \n",
       "\n",
       "                        Range F 8     Range F 9           V        Vth  \\\n",
       "2008-01-01 00:00:00  9.860334e+08  1.558658e+09  346.071014  36.012177   \n",
       "2008-01-01 00:10:00  1.126279e+09  1.762056e+09  348.415741  34.976662   \n",
       "2008-01-01 00:20:00  1.144053e+09  1.718165e+09  348.164673  34.677750   \n",
       "2008-01-01 00:30:00  1.098246e+09  1.878379e+09  356.162506  32.947617   \n",
       "2008-01-01 00:40:00  1.202470e+09  1.859657e+09  357.871826  31.242083   \n",
       "\n",
       "                             Vx         Vy         Vz      Beta          Pdyn  \\\n",
       "2008-01-01 00:00:00 -345.823730   2.977509  -6.587379  0.934875  1.208364e-15   \n",
       "2008-01-01 00:10:00 -348.193298  -5.476861 -10.663119  0.872927  1.248913e-15   \n",
       "2008-01-01 00:20:00 -347.992798  -1.428905  -8.036335  0.879172  1.231391e-15   \n",
       "2008-01-01 00:30:00 -355.946167 -10.620467  -5.134477  0.764977  1.272731e-15   \n",
       "2008-01-01 00:40:00 -357.522736  -9.289846 -12.252926  0.657990  1.251328e-15   \n",
       "\n",
       "                       RmsBob  \n",
       "2008-01-01 00:00:00  0.129070  \n",
       "2008-01-01 00:10:00  0.079137  \n",
       "2008-01-01 00:20:00  0.132966  \n",
       "2008-01-01 00:30:00  0.069234  \n",
       "2008-01-01 00:40:00  0.047655  \n",
       "\n",
       "[5 rows x 33 columns]"
      ]
     },
     "execution_count": 7,
     "metadata": {},
     "output_type": "execute_result"
    }
   ],
   "source": [
    "data_test.head()"
   ]
  },
  {
   "cell_type": "markdown",
   "metadata": {},
   "source": [
    "### Feature extraction"
   ]
  },
  {
   "cell_type": "code",
   "execution_count": 8,
   "metadata": {
    "collapsed": true
   },
   "outputs": [],
   "source": [
    "import sys\n",
    "sys.path.insert(0, './submissions/starting_kit/')"
   ]
  },
  {
   "cell_type": "code",
   "execution_count": 10,
   "metadata": {
    "collapsed": true
   },
   "outputs": [],
   "source": [
    "from estimator import FeatureExtractor"
   ]
  },
  {
   "cell_type": "code",
   "execution_count": 11,
   "metadata": {
    "collapsed": true
   },
   "outputs": [],
   "source": [
    "fe = FeatureExtractor()"
   ]
  },
  {
   "cell_type": "code",
   "execution_count": 12,
   "metadata": {
    "collapsed": true,
    "scrolled": false
   },
   "outputs": [],
   "source": [
    "X_train_t = fe.transform(data_train)"
   ]
  },
  {
   "cell_type": "code",
   "execution_count": 13,
   "metadata": {},
   "outputs": [
    {
     "data": {
      "text/html": [
       "<div>\n",
       "<style scoped>\n",
       "    .dataframe tbody tr th:only-of-type {\n",
       "        vertical-align: middle;\n",
       "    }\n",
       "\n",
       "    .dataframe tbody tr th {\n",
       "        vertical-align: top;\n",
       "    }\n",
       "\n",
       "    .dataframe thead th {\n",
       "        text-align: right;\n",
       "    }\n",
       "</style>\n",
       "<table border=\"1\" class=\"dataframe\">\n",
       "  <thead>\n",
       "    <tr style=\"text-align: right;\">\n",
       "      <th></th>\n",
       "      <th>B</th>\n",
       "      <th>Bx</th>\n",
       "      <th>Bx_rms</th>\n",
       "      <th>By</th>\n",
       "      <th>By_rms</th>\n",
       "      <th>Bz</th>\n",
       "      <th>Bz_rms</th>\n",
       "      <th>Na_nl</th>\n",
       "      <th>Np</th>\n",
       "      <th>Np_nl</th>\n",
       "      <th>...</th>\n",
       "      <th>Range F 9</th>\n",
       "      <th>V</th>\n",
       "      <th>Vth</th>\n",
       "      <th>Vx</th>\n",
       "      <th>Vy</th>\n",
       "      <th>Vz</th>\n",
       "      <th>Beta</th>\n",
       "      <th>Pdyn</th>\n",
       "      <th>RmsBob</th>\n",
       "      <th>Beta_2h_std</th>\n",
       "    </tr>\n",
       "  </thead>\n",
       "  <tbody>\n",
       "    <tr>\n",
       "      <th>1997-10-01 00:00:00</th>\n",
       "      <td>6.584763</td>\n",
       "      <td>3.753262</td>\n",
       "      <td>2.303108</td>\n",
       "      <td>0.966140</td>\n",
       "      <td>2.602693</td>\n",
       "      <td>-5.179685</td>\n",
       "      <td>2.668414</td>\n",
       "      <td>2.290824</td>\n",
       "      <td>23.045732</td>\n",
       "      <td>24.352797</td>\n",
       "      <td>...</td>\n",
       "      <td>2.472087e+09</td>\n",
       "      <td>378.313934</td>\n",
       "      <td>80.613098</td>\n",
       "      <td>-351.598389</td>\n",
       "      <td>-138.521454</td>\n",
       "      <td>6.956387</td>\n",
       "      <td>7.641340</td>\n",
       "      <td>5.487331e-15</td>\n",
       "      <td>0.668473</td>\n",
       "      <td>1.066682</td>\n",
       "    </tr>\n",
       "    <tr>\n",
       "      <th>1997-10-01 00:10:00</th>\n",
       "      <td>6.036456</td>\n",
       "      <td>0.693559</td>\n",
       "      <td>1.810752</td>\n",
       "      <td>-0.904843</td>\n",
       "      <td>2.165570</td>\n",
       "      <td>-1.944006</td>\n",
       "      <td>2.372931</td>\n",
       "      <td>2.119593</td>\n",
       "      <td>23.000492</td>\n",
       "      <td>20.993362</td>\n",
       "      <td>...</td>\n",
       "      <td>3.087122e+09</td>\n",
       "      <td>350.421021</td>\n",
       "      <td>69.919327</td>\n",
       "      <td>-331.012146</td>\n",
       "      <td>-110.970787</td>\n",
       "      <td>-21.269474</td>\n",
       "      <td>9.149856</td>\n",
       "      <td>4.783776e-15</td>\n",
       "      <td>0.753848</td>\n",
       "      <td>1.066682</td>\n",
       "    </tr>\n",
       "    <tr>\n",
       "      <th>1997-10-01 00:20:00</th>\n",
       "      <td>5.653682</td>\n",
       "      <td>-4.684786</td>\n",
       "      <td>0.893058</td>\n",
       "      <td>-2.668830</td>\n",
       "      <td>0.768677</td>\n",
       "      <td>1.479302</td>\n",
       "      <td>1.069266</td>\n",
       "      <td>2.876815</td>\n",
       "      <td>20.676191</td>\n",
       "      <td>17.496399</td>\n",
       "      <td>...</td>\n",
       "      <td>1.558640e+09</td>\n",
       "      <td>328.324493</td>\n",
       "      <td>92.194435</td>\n",
       "      <td>-306.114899</td>\n",
       "      <td>-117.035202</td>\n",
       "      <td>-13.018987</td>\n",
       "      <td>11.924199</td>\n",
       "      <td>3.719768e-15</td>\n",
       "      <td>0.282667</td>\n",
       "      <td>2.172383</td>\n",
       "    </tr>\n",
       "    <tr>\n",
       "      <th>1997-10-01 00:30:00</th>\n",
       "      <td>5.461768</td>\n",
       "      <td>-4.672382</td>\n",
       "      <td>1.081638</td>\n",
       "      <td>-2.425630</td>\n",
       "      <td>0.765681</td>\n",
       "      <td>1.203713</td>\n",
       "      <td>0.934445</td>\n",
       "      <td>2.851195</td>\n",
       "      <td>20.730188</td>\n",
       "      <td>16.747108</td>\n",
       "      <td>...</td>\n",
       "      <td>1.439569e+09</td>\n",
       "      <td>319.436859</td>\n",
       "      <td>94.230705</td>\n",
       "      <td>-298.460938</td>\n",
       "      <td>-110.403969</td>\n",
       "      <td>-20.350492</td>\n",
       "      <td>16.032987</td>\n",
       "      <td>3.525211e-15</td>\n",
       "      <td>0.304713</td>\n",
       "      <td>3.685499</td>\n",
       "    </tr>\n",
       "    <tr>\n",
       "      <th>1997-10-01 00:40:00</th>\n",
       "      <td>6.177846</td>\n",
       "      <td>-5.230110</td>\n",
       "      <td>1.046126</td>\n",
       "      <td>-2.872561</td>\n",
       "      <td>0.635256</td>\n",
       "      <td>1.505010</td>\n",
       "      <td>0.850657</td>\n",
       "      <td>3.317076</td>\n",
       "      <td>20.675701</td>\n",
       "      <td>17.524536</td>\n",
       "      <td>...</td>\n",
       "      <td>1.529260e+09</td>\n",
       "      <td>327.545929</td>\n",
       "      <td>89.292595</td>\n",
       "      <td>-307.303070</td>\n",
       "      <td>-111.865845</td>\n",
       "      <td>-12.313167</td>\n",
       "      <td>10.253789</td>\n",
       "      <td>3.694283e-15</td>\n",
       "      <td>0.244203</td>\n",
       "      <td>3.218911</td>\n",
       "    </tr>\n",
       "  </tbody>\n",
       "</table>\n",
       "<p>5 rows × 34 columns</p>\n",
       "</div>"
      ],
      "text/plain": [
       "                            B        Bx    Bx_rms        By    By_rms  \\\n",
       "1997-10-01 00:00:00  6.584763  3.753262  2.303108  0.966140  2.602693   \n",
       "1997-10-01 00:10:00  6.036456  0.693559  1.810752 -0.904843  2.165570   \n",
       "1997-10-01 00:20:00  5.653682 -4.684786  0.893058 -2.668830  0.768677   \n",
       "1997-10-01 00:30:00  5.461768 -4.672382  1.081638 -2.425630  0.765681   \n",
       "1997-10-01 00:40:00  6.177846 -5.230110  1.046126 -2.872561  0.635256   \n",
       "\n",
       "                           Bz    Bz_rms     Na_nl         Np      Np_nl  ...  \\\n",
       "1997-10-01 00:00:00 -5.179685  2.668414  2.290824  23.045732  24.352797  ...   \n",
       "1997-10-01 00:10:00 -1.944006  2.372931  2.119593  23.000492  20.993362  ...   \n",
       "1997-10-01 00:20:00  1.479302  1.069266  2.876815  20.676191  17.496399  ...   \n",
       "1997-10-01 00:30:00  1.203713  0.934445  2.851195  20.730188  16.747108  ...   \n",
       "1997-10-01 00:40:00  1.505010  0.850657  3.317076  20.675701  17.524536  ...   \n",
       "\n",
       "                        Range F 9           V        Vth          Vx  \\\n",
       "1997-10-01 00:00:00  2.472087e+09  378.313934  80.613098 -351.598389   \n",
       "1997-10-01 00:10:00  3.087122e+09  350.421021  69.919327 -331.012146   \n",
       "1997-10-01 00:20:00  1.558640e+09  328.324493  92.194435 -306.114899   \n",
       "1997-10-01 00:30:00  1.439569e+09  319.436859  94.230705 -298.460938   \n",
       "1997-10-01 00:40:00  1.529260e+09  327.545929  89.292595 -307.303070   \n",
       "\n",
       "                             Vy         Vz       Beta          Pdyn    RmsBob  \\\n",
       "1997-10-01 00:00:00 -138.521454   6.956387   7.641340  5.487331e-15  0.668473   \n",
       "1997-10-01 00:10:00 -110.970787 -21.269474   9.149856  4.783776e-15  0.753848   \n",
       "1997-10-01 00:20:00 -117.035202 -13.018987  11.924199  3.719768e-15  0.282667   \n",
       "1997-10-01 00:30:00 -110.403969 -20.350492  16.032987  3.525211e-15  0.304713   \n",
       "1997-10-01 00:40:00 -111.865845 -12.313167  10.253789  3.694283e-15  0.244203   \n",
       "\n",
       "                     Beta_2h_std  \n",
       "1997-10-01 00:00:00     1.066682  \n",
       "1997-10-01 00:10:00     1.066682  \n",
       "1997-10-01 00:20:00     2.172383  \n",
       "1997-10-01 00:30:00     3.685499  \n",
       "1997-10-01 00:40:00     3.218911  \n",
       "\n",
       "[5 rows x 34 columns]"
      ]
     },
     "execution_count": 13,
     "metadata": {},
     "output_type": "execute_result"
    }
   ],
   "source": [
    "X_train_t.head()"
   ]
  },
  {
   "cell_type": "code",
   "execution_count": 14,
   "metadata": {
    "collapsed": true
   },
   "outputs": [],
   "source": [
    "X_train_t.fillna(X_train_t.median(), inplace=True)"
   ]
  },
  {
   "cell_type": "markdown",
   "metadata": {},
   "source": [
    "### Trying model"
   ]
  },
  {
   "cell_type": "code",
   "execution_count": 15,
   "metadata": {
    "collapsed": true
   },
   "outputs": [],
   "source": [
    "from sklearn.ensemble import RandomForestClassifier\n",
    "from sklearn.metrics import classification_report, confusion_matrix"
   ]
  },
  {
   "cell_type": "code",
   "execution_count": 16,
   "metadata": {
    "collapsed": true
   },
   "outputs": [],
   "source": [
    "model = RandomForestClassifier(n_jobs=-1)"
   ]
  },
  {
   "cell_type": "code",
   "execution_count": 17,
   "metadata": {},
   "outputs": [
    {
     "data": {
      "text/plain": [
       "RandomForestClassifier(n_jobs=-1)"
      ]
     },
     "execution_count": 17,
     "metadata": {},
     "output_type": "execute_result"
    }
   ],
   "source": [
    "model.fit(X_train_t, y_train)"
   ]
  },
  {
   "cell_type": "code",
   "execution_count": 18,
   "metadata": {},
   "outputs": [
    {
     "data": {
      "text/plain": [
       "0.9999941157317872"
      ]
     },
     "execution_count": 18,
     "metadata": {},
     "output_type": "execute_result"
    }
   ],
   "source": [
    "model.score(X_train_t, y_train)"
   ]
  },
  {
   "cell_type": "code",
   "execution_count": 19,
   "metadata": {
    "collapsed": true
   },
   "outputs": [],
   "source": [
    "y_pred = model.predict(X_train_t)"
   ]
  },
  {
   "cell_type": "code",
   "execution_count": 20,
   "metadata": {},
   "outputs": [
    {
     "name": "stdout",
     "output_type": "stream",
     "text": [
      "              precision    recall  f1-score   support\n",
      "\n",
      "           0       1.00      1.00      1.00    451269\n",
      "           1       1.00      1.00      1.00     58565\n",
      "\n",
      "    accuracy                           1.00    509834\n",
      "   macro avg       1.00      1.00      1.00    509834\n",
      "weighted avg       1.00      1.00      1.00    509834\n",
      "\n"
     ]
    }
   ],
   "source": [
    "print(classification_report(y_train, y_pred))"
   ]
  },
  {
   "cell_type": "code",
   "execution_count": 27,
   "metadata": {},
   "outputs": [
    {
     "name": "stdout",
     "output_type": "stream",
     "text": [
      "[[5208968       5       3]\n",
      " [   1920   54996       5]\n",
      " [   2984       7  192818]]\n"
     ]
    }
   ],
   "source": [
    "print(confusion_matrix(y_train, y_pred))"
   ]
  },
  {
   "cell_type": "markdown",
   "metadata": {},
   "source": [
    "On test data:"
   ]
  },
  {
   "cell_type": "code",
   "execution_count": 21,
   "metadata": {
    "collapsed": true,
    "scrolled": false
   },
   "outputs": [],
   "source": [
    "X_test_t = fe.transform(data_test)"
   ]
  },
  {
   "cell_type": "code",
   "execution_count": 22,
   "metadata": {
    "collapsed": true
   },
   "outputs": [],
   "source": [
    "X_test_t.fillna(X_test_t.median(), inplace=True)"
   ]
  },
  {
   "cell_type": "code",
   "execution_count": 23,
   "metadata": {
    "collapsed": true
   },
   "outputs": [],
   "source": [
    "y_pred_test = model.predict(X_test_t)"
   ]
  },
  {
   "cell_type": "code",
   "execution_count": 24,
   "metadata": {},
   "outputs": [
    {
     "name": "stdout",
     "output_type": "stream",
     "text": [
      "[[190976    779]\n",
      " [ 10032   3787]]\n"
     ]
    }
   ],
   "source": [
    "print(confusion_matrix(y_test, y_pred_test))"
   ]
  },
  {
   "cell_type": "code",
   "execution_count": 25,
   "metadata": {
    "scrolled": true
   },
   "outputs": [
    {
     "name": "stdout",
     "output_type": "stream",
     "text": [
      "              precision    recall  f1-score   support\n",
      "\n",
      "           0       0.95      1.00      0.97    191755\n",
      "           1       0.83      0.27      0.41     13819\n",
      "\n",
      "    accuracy                           0.95    205574\n",
      "   macro avg       0.89      0.63      0.69    205574\n",
      "weighted avg       0.94      0.95      0.93    205574\n",
      "\n"
     ]
    }
   ],
   "source": [
    "print(classification_report(y_test, y_pred_test))"
   ]
  },
  {
   "cell_type": "code",
   "execution_count": 30,
   "metadata": {},
   "outputs": [
    {
     "ename": "KeyError",
     "evalue": "'key of type tuple not found and not a MultiIndex'",
     "output_type": "error",
     "traceback": [
      "\u001b[1;31m---------------------------------------------------------------------------\u001b[0m",
      "\u001b[1;31mKeyError\u001b[0m                                  Traceback (most recent call last)",
      "\u001b[1;32m~\\AppData\\Local\\Temp\\ipykernel_2444\\1146223461.py\u001b[0m in \u001b[0;36m<module>\u001b[1;34m\u001b[0m\n\u001b[0;32m      1\u001b[0m \u001b[1;32mfor\u001b[0m \u001b[0mscore\u001b[0m \u001b[1;32min\u001b[0m \u001b[0mproblem\u001b[0m\u001b[1;33m.\u001b[0m\u001b[0mscore_types\u001b[0m\u001b[1;33m:\u001b[0m\u001b[1;33m\u001b[0m\u001b[1;33m\u001b[0m\u001b[0m\n\u001b[1;32m----> 2\u001b[1;33m     \u001b[0mprint\u001b[0m\u001b[1;33m(\u001b[0m\u001b[0mtype\u001b[0m\u001b[1;33m(\u001b[0m\u001b[0mscore\u001b[0m\u001b[1;33m)\u001b[0m\u001b[1;33m,\u001b[0m \u001b[1;34m\" : \"\u001b[0m\u001b[1;33m,\u001b[0m \u001b[0mscore\u001b[0m\u001b[1;33m(\u001b[0m\u001b[0my_test\u001b[0m\u001b[1;33m,\u001b[0m \u001b[0my_pred_test\u001b[0m\u001b[1;33m)\u001b[0m\u001b[1;33m)\u001b[0m\u001b[1;33m\u001b[0m\u001b[1;33m\u001b[0m\u001b[0m\n\u001b[0m",
      "\u001b[1;32mc:\\Users\\huuta\\Documents\\School\\3A\\datacamp\\solar_wind\\problem.py\u001b[0m in \u001b[0;36m__call__\u001b[1;34m(self, y_true, y_pred)\u001b[0m\n\u001b[0;32m    248\u001b[0m \u001b[1;33m\u001b[0m\u001b[0m\n\u001b[0;32m    249\u001b[0m     \u001b[1;32mdef\u001b[0m \u001b[0m__call__\u001b[0m\u001b[1;33m(\u001b[0m\u001b[0mself\u001b[0m\u001b[1;33m,\u001b[0m \u001b[0my_true\u001b[0m\u001b[1;33m,\u001b[0m \u001b[0my_pred\u001b[0m\u001b[1;33m)\u001b[0m\u001b[1;33m:\u001b[0m\u001b[1;33m\u001b[0m\u001b[1;33m\u001b[0m\u001b[0m\n\u001b[1;32m--> 250\u001b[1;33m         \u001b[0mf1\u001b[0m \u001b[1;33m=\u001b[0m \u001b[0mself\u001b[0m\u001b[1;33m.\u001b[0m\u001b[0mevent_wise_f1\u001b[0m\u001b[1;33m(\u001b[0m\u001b[0my_true\u001b[0m\u001b[1;33m,\u001b[0m \u001b[0my_pred\u001b[0m\u001b[1;33m)\u001b[0m\u001b[1;33m\u001b[0m\u001b[1;33m\u001b[0m\u001b[0m\n\u001b[0m\u001b[0;32m    251\u001b[0m         \u001b[0mll\u001b[0m \u001b[1;33m=\u001b[0m \u001b[0mself\u001b[0m\u001b[1;33m.\u001b[0m\u001b[0mpointwise_log_loss\u001b[0m\u001b[1;33m(\u001b[0m\u001b[0my_true\u001b[0m\u001b[1;33m,\u001b[0m \u001b[0my_pred\u001b[0m\u001b[1;33m)\u001b[0m\u001b[1;33m\u001b[0m\u001b[1;33m\u001b[0m\u001b[0m\n\u001b[0;32m    252\u001b[0m         \u001b[1;32mreturn\u001b[0m \u001b[0mll\u001b[0m \u001b[1;33m+\u001b[0m \u001b[1;36m0.1\u001b[0m \u001b[1;33m*\u001b[0m \u001b[1;33m(\u001b[0m\u001b[1;36m1\u001b[0m \u001b[1;33m-\u001b[0m \u001b[0mf1\u001b[0m\u001b[1;33m)\u001b[0m\u001b[1;33m\u001b[0m\u001b[1;33m\u001b[0m\u001b[0m\n",
      "\u001b[1;32mc:\\Users\\huuta\\Documents\\School\\3A\\datacamp\\solar_wind\\problem.py\u001b[0m in \u001b[0;36m__call__\u001b[1;34m(self, y_true, y_pred)\u001b[0m\n\u001b[0;32m    231\u001b[0m \u001b[1;33m\u001b[0m\u001b[0m\n\u001b[0;32m    232\u001b[0m     \u001b[1;32mdef\u001b[0m \u001b[0m__call__\u001b[0m\u001b[1;33m(\u001b[0m\u001b[0mself\u001b[0m\u001b[1;33m,\u001b[0m \u001b[0my_true\u001b[0m\u001b[1;33m,\u001b[0m \u001b[0my_pred\u001b[0m\u001b[1;33m)\u001b[0m\u001b[1;33m:\u001b[0m\u001b[1;33m\u001b[0m\u001b[1;33m\u001b[0m\u001b[0m\n\u001b[1;32m--> 233\u001b[1;33m         \u001b[0mrec\u001b[0m \u001b[1;33m=\u001b[0m \u001b[0mself\u001b[0m\u001b[1;33m.\u001b[0m\u001b[0meventwise_recall\u001b[0m\u001b[1;33m(\u001b[0m\u001b[0my_true\u001b[0m\u001b[1;33m,\u001b[0m \u001b[0my_pred\u001b[0m\u001b[1;33m)\u001b[0m\u001b[1;33m\u001b[0m\u001b[1;33m\u001b[0m\u001b[0m\n\u001b[0m\u001b[0;32m    234\u001b[0m         \u001b[0mprec\u001b[0m \u001b[1;33m=\u001b[0m \u001b[0mself\u001b[0m\u001b[1;33m.\u001b[0m\u001b[0meventwise_precision\u001b[0m\u001b[1;33m(\u001b[0m\u001b[0my_true\u001b[0m\u001b[1;33m,\u001b[0m \u001b[0my_pred\u001b[0m\u001b[1;33m)\u001b[0m\u001b[1;33m\u001b[0m\u001b[1;33m\u001b[0m\u001b[0m\n\u001b[0;32m    235\u001b[0m         \u001b[1;32mreturn\u001b[0m \u001b[1;36m2\u001b[0m \u001b[1;33m*\u001b[0m \u001b[1;33m(\u001b[0m\u001b[0mprec\u001b[0m \u001b[1;33m*\u001b[0m \u001b[0mrec\u001b[0m\u001b[1;33m)\u001b[0m \u001b[1;33m/\u001b[0m \u001b[1;33m(\u001b[0m\u001b[0mprec\u001b[0m \u001b[1;33m+\u001b[0m \u001b[0mrec\u001b[0m \u001b[1;33m+\u001b[0m \u001b[1;36m10\u001b[0m \u001b[1;33m**\u001b[0m \u001b[1;33m-\u001b[0m\u001b[1;36m15\u001b[0m\u001b[1;33m)\u001b[0m\u001b[1;33m\u001b[0m\u001b[1;33m\u001b[0m\u001b[0m\n",
      "\u001b[1;32mc:\\Users\\huuta\\Documents\\School\\3A\\datacamp\\solar_wind\\problem.py\u001b[0m in \u001b[0;36m__call__\u001b[1;34m(self, y_true, y_pred)\u001b[0m\n\u001b[0;32m    201\u001b[0m     \u001b[1;32mdef\u001b[0m \u001b[0m__call__\u001b[0m\u001b[1;33m(\u001b[0m\u001b[0mself\u001b[0m\u001b[1;33m,\u001b[0m \u001b[0my_true\u001b[0m\u001b[1;33m,\u001b[0m \u001b[0my_pred\u001b[0m\u001b[1;33m)\u001b[0m\u001b[1;33m:\u001b[0m\u001b[1;33m\u001b[0m\u001b[1;33m\u001b[0m\u001b[0m\n\u001b[0;32m    202\u001b[0m         y_true = pd.Series(\n\u001b[1;32m--> 203\u001b[1;33m             \u001b[0my_true\u001b[0m\u001b[1;33m[\u001b[0m\u001b[1;33m:\u001b[0m\u001b[1;33m,\u001b[0m \u001b[1;36m2\u001b[0m\u001b[1;33m]\u001b[0m\u001b[1;33m,\u001b[0m\u001b[1;33m\u001b[0m\u001b[1;33m\u001b[0m\u001b[0m\n\u001b[0m\u001b[0;32m    204\u001b[0m             index=pd.to_datetime(y_true[:, 0].astype('int64'), unit='m'))\n\u001b[0;32m    205\u001b[0m         y_pred = pd.Series(\n",
      "\u001b[1;32mc:\\Users\\huuta\\anaconda3\\lib\\site-packages\\pandas\\core\\series.py\u001b[0m in \u001b[0;36m__getitem__\u001b[1;34m(self, key)\u001b[0m\n\u001b[0;32m    982\u001b[0m             \u001b[1;32mreturn\u001b[0m \u001b[0mself\u001b[0m\u001b[1;33m.\u001b[0m\u001b[0m_get_values\u001b[0m\u001b[1;33m(\u001b[0m\u001b[0mkey\u001b[0m\u001b[1;33m)\u001b[0m\u001b[1;33m\u001b[0m\u001b[1;33m\u001b[0m\u001b[0m\n\u001b[0;32m    983\u001b[0m \u001b[1;33m\u001b[0m\u001b[0m\n\u001b[1;32m--> 984\u001b[1;33m         \u001b[1;32mreturn\u001b[0m \u001b[0mself\u001b[0m\u001b[1;33m.\u001b[0m\u001b[0m_get_with\u001b[0m\u001b[1;33m(\u001b[0m\u001b[0mkey\u001b[0m\u001b[1;33m)\u001b[0m\u001b[1;33m\u001b[0m\u001b[1;33m\u001b[0m\u001b[0m\n\u001b[0m\u001b[0;32m    985\u001b[0m \u001b[1;33m\u001b[0m\u001b[0m\n\u001b[0;32m    986\u001b[0m     \u001b[1;32mdef\u001b[0m \u001b[0m_get_with\u001b[0m\u001b[1;33m(\u001b[0m\u001b[0mself\u001b[0m\u001b[1;33m,\u001b[0m \u001b[0mkey\u001b[0m\u001b[1;33m)\u001b[0m\u001b[1;33m:\u001b[0m\u001b[1;33m\u001b[0m\u001b[1;33m\u001b[0m\u001b[0m\n",
      "\u001b[1;32mc:\\Users\\huuta\\anaconda3\\lib\\site-packages\\pandas\\core\\series.py\u001b[0m in \u001b[0;36m_get_with\u001b[1;34m(self, key)\u001b[0m\n\u001b[0;32m    997\u001b[0m             )\n\u001b[0;32m    998\u001b[0m         \u001b[1;32melif\u001b[0m \u001b[0misinstance\u001b[0m\u001b[1;33m(\u001b[0m\u001b[0mkey\u001b[0m\u001b[1;33m,\u001b[0m \u001b[0mtuple\u001b[0m\u001b[1;33m)\u001b[0m\u001b[1;33m:\u001b[0m\u001b[1;33m\u001b[0m\u001b[1;33m\u001b[0m\u001b[0m\n\u001b[1;32m--> 999\u001b[1;33m             \u001b[1;32mreturn\u001b[0m \u001b[0mself\u001b[0m\u001b[1;33m.\u001b[0m\u001b[0m_get_values_tuple\u001b[0m\u001b[1;33m(\u001b[0m\u001b[0mkey\u001b[0m\u001b[1;33m)\u001b[0m\u001b[1;33m\u001b[0m\u001b[1;33m\u001b[0m\u001b[0m\n\u001b[0m\u001b[0;32m   1000\u001b[0m \u001b[1;33m\u001b[0m\u001b[0m\n\u001b[0;32m   1001\u001b[0m         \u001b[1;32melif\u001b[0m \u001b[1;32mnot\u001b[0m \u001b[0mis_list_like\u001b[0m\u001b[1;33m(\u001b[0m\u001b[0mkey\u001b[0m\u001b[1;33m)\u001b[0m\u001b[1;33m:\u001b[0m\u001b[1;33m\u001b[0m\u001b[1;33m\u001b[0m\u001b[0m\n",
      "\u001b[1;32mc:\\Users\\huuta\\anaconda3\\lib\\site-packages\\pandas\\core\\series.py\u001b[0m in \u001b[0;36m_get_values_tuple\u001b[1;34m(self, key)\u001b[0m\n\u001b[0;32m   1032\u001b[0m \u001b[1;33m\u001b[0m\u001b[0m\n\u001b[0;32m   1033\u001b[0m         \u001b[1;32mif\u001b[0m \u001b[1;32mnot\u001b[0m \u001b[0misinstance\u001b[0m\u001b[1;33m(\u001b[0m\u001b[0mself\u001b[0m\u001b[1;33m.\u001b[0m\u001b[0mindex\u001b[0m\u001b[1;33m,\u001b[0m \u001b[0mMultiIndex\u001b[0m\u001b[1;33m)\u001b[0m\u001b[1;33m:\u001b[0m\u001b[1;33m\u001b[0m\u001b[1;33m\u001b[0m\u001b[0m\n\u001b[1;32m-> 1034\u001b[1;33m             \u001b[1;32mraise\u001b[0m \u001b[0mKeyError\u001b[0m\u001b[1;33m(\u001b[0m\u001b[1;34m\"key of type tuple not found and not a MultiIndex\"\u001b[0m\u001b[1;33m)\u001b[0m\u001b[1;33m\u001b[0m\u001b[1;33m\u001b[0m\u001b[0m\n\u001b[0m\u001b[0;32m   1035\u001b[0m \u001b[1;33m\u001b[0m\u001b[0m\n\u001b[0;32m   1036\u001b[0m         \u001b[1;31m# If key is contained, would have returned by now\u001b[0m\u001b[1;33m\u001b[0m\u001b[1;33m\u001b[0m\u001b[0m\n",
      "\u001b[1;31mKeyError\u001b[0m: 'key of type tuple not found and not a MultiIndex'"
     ]
    }
   ],
   "source": [
    "for score in problem.score_types:\n",
    "    print(type(score), \" : \", score(y_test, y_pred_test))"
   ]
  },
  {
   "cell_type": "markdown",
   "metadata": {},
   "source": [
    "Trying a balancing technique:"
   ]
  },
  {
   "cell_type": "code",
   "execution_count": 19,
   "metadata": {
    "collapsed": true
   },
   "outputs": [],
   "source": [
    "from sklearn.tree import DecisionTreeClassifier"
   ]
  },
  {
   "cell_type": "code",
   "execution_count": 20,
   "metadata": {
    "collapsed": true
   },
   "outputs": [],
   "source": [
    "from imblearn.ensemble import BalancedBaggingClassifier"
   ]
  },
  {
   "cell_type": "code",
   "execution_count": 40,
   "metadata": {
    "collapsed": true
   },
   "outputs": [],
   "source": [
    "bbc = BalancedBaggingClassifier(base_estimator=DecisionTreeClassifier(max_features='auto'),\n",
    "                                ratio='auto',\n",
    "                                replacement=False,\n",
    "                                random_state=0)"
   ]
  },
  {
   "cell_type": "code",
   "execution_count": 41,
   "metadata": {},
   "outputs": [
    {
     "data": {
      "text/plain": [
       "BalancedBaggingClassifier(base_estimator=DecisionTreeClassifier(class_weight=None, criterion='gini', max_depth=None,\n",
       "            max_features='auto', max_leaf_nodes=None,\n",
       "            min_impurity_decrease=0.0, min_impurity_split=None,\n",
       "            min_samples_leaf=1, min_samples_split=2,\n",
       "            min_weight_fraction_leaf=0.0, presort=False, random_state=None,\n",
       "            splitter='best'),\n",
       "             bootstrap=True, bootstrap_features=False, max_features=1.0,\n",
       "             max_samples=1.0, n_estimators=10, n_jobs=1, oob_score=False,\n",
       "             random_state=0, ratio='auto', replacement=False, verbose=0,\n",
       "             warm_start=False)"
      ]
     },
     "execution_count": 41,
     "metadata": {},
     "output_type": "execute_result"
    }
   ],
   "source": [
    "bbc.fit(X_train_t, y_train)"
   ]
  },
  {
   "cell_type": "code",
   "execution_count": 42,
   "metadata": {
    "collapsed": true
   },
   "outputs": [],
   "source": [
    "y_pred_bcc = bbc.predict(X_train_t)"
   ]
  },
  {
   "cell_type": "code",
   "execution_count": 43,
   "metadata": {},
   "outputs": [
    {
     "name": "stdout",
     "output_type": "stream",
     "text": [
      "             precision    recall  f1-score   support\n",
      "\n",
      "          0       1.00      0.91      0.95   5208976\n",
      "          1       0.24      1.00      0.39     56921\n",
      "          2       0.41      0.96      0.58    195809\n",
      "\n",
      "avg / total       0.97      0.92      0.94   5461706\n",
      "\n"
     ]
    }
   ],
   "source": [
    "print(classification_report(y_train, y_pred_bcc))"
   ]
  },
  {
   "cell_type": "code",
   "execution_count": 44,
   "metadata": {},
   "outputs": [
    {
     "name": "stdout",
     "output_type": "stream",
     "text": [
      "[[4761593  178247  269136]\n",
      " [    133   56777      11]\n",
      " [   5467    1710  188632]]\n"
     ]
    }
   ],
   "source": [
    "print(confusion_matrix(y_train, y_pred_bcc))"
   ]
  },
  {
   "cell_type": "code",
   "execution_count": 45,
   "metadata": {
    "collapsed": true
   },
   "outputs": [],
   "source": [
    "y_pred_bbc_test = bbc.predict(X_test_t)"
   ]
  },
  {
   "cell_type": "code",
   "execution_count": 46,
   "metadata": {},
   "outputs": [
    {
     "name": "stdout",
     "output_type": "stream",
     "text": [
      "[[1477303   62576  126733]\n",
      " [  11110    9525    2631]\n",
      " [  22960    3026   49265]]\n"
     ]
    }
   ],
   "source": [
    "print(confusion_matrix(y_test, y_pred_bbc_test))"
   ]
  },
  {
   "cell_type": "code",
   "execution_count": 47,
   "metadata": {
    "scrolled": true
   },
   "outputs": [
    {
     "name": "stdout",
     "output_type": "stream",
     "text": [
      "             precision    recall  f1-score   support\n",
      "\n",
      "          0       0.98      0.89      0.93   1666612\n",
      "          1       0.13      0.41      0.19     23266\n",
      "          2       0.28      0.65      0.39     75251\n",
      "\n",
      "avg / total       0.94      0.87      0.90   1765129\n",
      "\n"
     ]
    }
   ],
   "source": [
    "print(classification_report(y_test, y_pred_bbc_test))"
   ]
  },
  {
   "cell_type": "markdown",
   "metadata": {},
   "source": [
    "The above could do "
   ]
  },
  {
   "cell_type": "code",
   "execution_count": null,
   "metadata": {
    "collapsed": true
   },
   "outputs": [],
   "source": []
  },
  {
   "cell_type": "code",
   "execution_count": 21,
   "metadata": {
    "collapsed": true
   },
   "outputs": [],
   "source": [
    "from collections import Counter"
   ]
  },
  {
   "cell_type": "code",
   "execution_count": 24,
   "metadata": {
    "collapsed": true
   },
   "outputs": [],
   "source": [
    "def determine_ratio(y):\n",
    "    target_stats = Counter(y)\n",
    "    max_ = max(target_stats.values())\n",
    "    ratio = min(target_stats.values()) / max(target_stats.values()) * 5\n",
    "    \n",
    "    return {key: int(value * ratio)\n",
    "            for key, value in target_stats.items() if value == max_}"
   ]
  },
  {
   "cell_type": "code",
   "execution_count": 26,
   "metadata": {},
   "outputs": [
    {
     "data": {
      "text/plain": [
       "Counter({0: 5208976, 1: 56921, 2: 195809})"
      ]
     },
     "execution_count": 26,
     "metadata": {},
     "output_type": "execute_result"
    }
   ],
   "source": [
    "Counter(y_train)"
   ]
  },
  {
   "cell_type": "code",
   "execution_count": 25,
   "metadata": {},
   "outputs": [
    {
     "data": {
      "text/plain": [
       "{0: 284605}"
      ]
     },
     "execution_count": 25,
     "metadata": {},
     "output_type": "execute_result"
    }
   ],
   "source": [
    "determine_ratio(y_train)"
   ]
  },
  {
   "cell_type": "code",
   "execution_count": 27,
   "metadata": {
    "collapsed": true
   },
   "outputs": [],
   "source": [
    "bbc2 = BalancedBaggingClassifier(base_estimator=DecisionTreeClassifier(max_features='auto'),\n",
    "                                 ratio=determine_ratio, random_state=0)"
   ]
  },
  {
   "cell_type": "code",
   "execution_count": 28,
   "metadata": {},
   "outputs": [
    {
     "data": {
      "text/plain": [
       "BalancedBaggingClassifier(base_estimator=DecisionTreeClassifier(class_weight=None, criterion='gini', max_depth=None,\n",
       "            max_features='auto', max_leaf_nodes=None,\n",
       "            min_impurity_decrease=0.0, min_impurity_split=None,\n",
       "            min_samples_leaf=1, min_samples_split=2,\n",
       "            min_weight_fraction_leaf=0.0, presort=False, random_state=None,\n",
       "            splitter='best'),\n",
       "             bootstrap=True, bootstrap_features=False, max_features=1.0,\n",
       "             max_samples=1.0, n_estimators=10, n_jobs=1, oob_score=False,\n",
       "             random_state=0,\n",
       "             ratio=<function determine_ratio at 0x7f5122eefae8>,\n",
       "             replacement=False, verbose=0, warm_start=False)"
      ]
     },
     "execution_count": 28,
     "metadata": {},
     "output_type": "execute_result"
    }
   ],
   "source": [
    "bbc2.fit(X_train_t, y_train)"
   ]
  },
  {
   "cell_type": "code",
   "execution_count": 29,
   "metadata": {
    "collapsed": true
   },
   "outputs": [],
   "source": [
    "y_pred_bcc = bbc2.predict(X_train_t)"
   ]
  },
  {
   "cell_type": "code",
   "execution_count": 30,
   "metadata": {},
   "outputs": [
    {
     "name": "stdout",
     "output_type": "stream",
     "text": [
      "             precision    recall  f1-score   support\n",
      "\n",
      "          0       1.00      0.98      0.99   5208976\n",
      "          1       0.70      0.99      0.82     56921\n",
      "          2       0.74      1.00      0.85    195809\n",
      "\n",
      "avg / total       0.99      0.98      0.98   5461706\n",
      "\n"
     ]
    }
   ],
   "source": [
    "print(classification_report(y_train, y_pred_bcc))"
   ]
  },
  {
   "cell_type": "code",
   "execution_count": 31,
   "metadata": {},
   "outputs": [
    {
     "name": "stdout",
     "output_type": "stream",
     "text": [
      "[[5116980   24393   67603]\n",
      " [    423   56486      12]\n",
      " [    692      34  195083]]\n"
     ]
    }
   ],
   "source": [
    "print(confusion_matrix(y_train, y_pred_bcc))"
   ]
  },
  {
   "cell_type": "code",
   "execution_count": 33,
   "metadata": {
    "collapsed": true
   },
   "outputs": [],
   "source": [
    "y_pred_bbc_test = bbc2.predict(X_test_t)"
   ]
  },
  {
   "cell_type": "code",
   "execution_count": 34,
   "metadata": {},
   "outputs": [
    {
     "name": "stdout",
     "output_type": "stream",
     "text": [
      "[[1590599   12546   63467]\n",
      " [  17221    4397    1648]\n",
      " [  37136    1393   36722]]\n"
     ]
    }
   ],
   "source": [
    "print(confusion_matrix(y_test, y_pred_bbc_test))"
   ]
  },
  {
   "cell_type": "code",
   "execution_count": 46,
   "metadata": {},
   "outputs": [
    {
     "name": "stdout",
     "output_type": "stream",
     "text": [
      "[[1477303   62576  126733]\n",
      " [  11110    9525    2631]\n",
      " [  22960    3026   49265]]\n"
     ]
    }
   ],
   "source": [
    "print(confusion_matrix(y_test, y_pred_bbc_test))"
   ]
  },
  {
   "cell_type": "code",
   "execution_count": 35,
   "metadata": {},
   "outputs": [
    {
     "name": "stdout",
     "output_type": "stream",
     "text": [
      "             precision    recall  f1-score   support\n",
      "\n",
      "          0       0.97      0.95      0.96   1666612\n",
      "          1       0.24      0.19      0.21     23266\n",
      "          2       0.36      0.49      0.41     75251\n",
      "\n",
      "avg / total       0.93      0.92      0.93   1765129\n",
      "\n"
     ]
    }
   ],
   "source": [
    "print(classification_report(y_test, y_pred_bbc_test))"
   ]
  },
  {
   "cell_type": "markdown",
   "metadata": {},
   "source": [
    "So the precision is a bit better, but the recall worse"
   ]
  },
  {
   "cell_type": "markdown",
   "metadata": {},
   "source": [
    "### Cross-validation"
   ]
  },
  {
   "cell_type": "markdown",
   "metadata": {},
   "source": [
    "For now we can use the `KFold` cross-validation method of sklearn:"
   ]
  },
  {
   "cell_type": "code",
   "execution_count": 48,
   "metadata": {
    "collapsed": true
   },
   "outputs": [],
   "source": [
    "from sklearn.model_selection import KFold"
   ]
  },
  {
   "cell_type": "code",
   "execution_count": 53,
   "metadata": {
    "collapsed": true
   },
   "outputs": [],
   "source": [
    "cv = KFold(n_splits=10)"
   ]
  },
  {
   "cell_type": "code",
   "execution_count": null,
   "metadata": {
    "collapsed": true
   },
   "outputs": [],
   "source": []
  },
  {
   "cell_type": "code",
   "execution_count": null,
   "metadata": {
    "collapsed": true
   },
   "outputs": [],
   "source": []
  },
  {
   "cell_type": "code",
   "execution_count": null,
   "metadata": {
    "collapsed": true
   },
   "outputs": [],
   "source": []
  }
 ],
 "metadata": {
  "kernelspec": {
   "display_name": "base",
   "language": "python",
   "name": "python3"
  },
  "language_info": {
   "codemirror_mode": {
    "name": "ipython",
    "version": 3
   },
   "file_extension": ".py",
   "mimetype": "text/x-python",
   "name": "python",
   "nbconvert_exporter": "python",
   "pygments_lexer": "ipython3",
   "version": "3.9.13"
  },
  "nav_menu": {},
  "toc": {
   "navigate_menu": true,
   "number_sections": true,
   "sideBar": true,
   "threshold": 6,
   "toc_cell": false,
   "toc_section_display": "block",
   "toc_window_display": false
  },
  "vscode": {
   "interpreter": {
    "hash": "0a4c350da27618d5732fc58ebcab8d2c0381c51b7361f332741f21e30512bbdd"
   }
  }
 },
 "nbformat": 4,
 "nbformat_minor": 2
}
